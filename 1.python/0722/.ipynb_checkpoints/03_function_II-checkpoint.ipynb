{
 "cells": [
  {
   "cell_type": "markdown",
   "metadata": {},
   "source": [
    "<p style=\"font-size: 33px; font-weight: 700; margin-bottom: 3rem\">함수(function) II</p>\n",
    "\n",
    "- 함수와 스코프\n",
    "- 재귀 함수\n"
   ]
  },
  {
   "cell_type": "markdown",
   "metadata": {},
   "source": [
    "# 함수와 스코프(scope)\n",
    "\n",
    "함수는 코드 내부에 스코프(scope)를 생성합니다. 함수로 생성된 공간은 `지역 스코프(local scope)`라고 불리며, 그 외의 공간인 `전역 스코프(global scope)`와 구분됩니다.\n",
    "\n",
    "* **전역 스코프(`global scope`)**: 코드 어디에서든 참조할 수 있는 공간\n",
    "* **지역 스코프(`local scope`)**: 함수가 만든 스코프로 함수 내부에서만 참조할 수 있는 공간\n",
    "\n",
    "\n",
    "* **전역 변수(`global variable`)**: 전역 스코프에 정의된 변수\n",
    "* **지역 변수(`local variable`)**: 로컬 스코프에 정의된 변수\n"
   ]
  },
  {
   "cell_type": "code",
   "execution_count": 1,
   "metadata": {},
   "outputs": [],
   "source": [
    "# 전역 스코프와 지역 스코프를 알아봅시다.\n",
    "\n",
    "# 전역 스코프에서는 지역 스코프의 변수를 참조할 수 없습니다.\n",
    "# 그러나 반대로 지역스코프에서 전역스코프의 변수는 참조할 수 있습니다.\n",
    "\n",
    "# func 함수 바깥에서 함수 안의 지역 변수 c를 출력하고 오류를 확인해보세요.\n",
    "# 그리고 반대로 func 함수 내부에서 전역 변수 a를 출력하고 결과를 확인해보세요.\n",
    "\n",
    "a = 10\n",
    "\n",
    "def func(b):\n",
    "    c = 20"
   ]
  },
  {
   "cell_type": "code",
   "execution_count": null,
   "metadata": {},
   "outputs": [],
   "source": [
    "# 전역 스코프와 지역 스코프에 같은 이름의 변수를 만들면 어떻게 될까요?\n",
    "\n",
    "# 아래 코드를 실행시켜보고 결과를 확인해보세요."
   ]
  },
  {
   "cell_type": "code",
   "execution_count": 2,
   "metadata": {},
   "outputs": [
    {
     "name": "stdout",
     "output_type": "stream",
     "text": [
      "30\n",
      "10\n"
     ]
    }
   ],
   "source": [
    "a = 10 # 전역 변수(global)\n",
    "\n",
    "def func(b):\n",
    "    a = 30 # 지역 변수(local variable)\n",
    "    print(a)\n",
    "    \n",
    "func(a)\n",
    "print(a)"
   ]
  },
  {
   "cell_type": "markdown",
   "metadata": {
    "tags": []
   },
   "source": [
    "### 변수의 수명주기(lifecycle)\n",
    "\n",
    "변수의 이름은 각자의 `수명주기(lifecycle)`가 있습니다.\n",
    "\n",
    "* **빌트인 스코프`(built-in scope)`**: 파이썬이 실행된 이후부터 영원히 유지\n",
    "\n",
    "\n",
    "* **전역 스코프`(global scope)`**: 모듈이 호출된 시점 이후 혹은 이름 선언된 이후부터 인터프리터가 끝날 때 까지 유지\n",
    "\n",
    "\n",
    "* **지역(함수) 스코프`(local scope)`**: 함수가 호출될 때 생성되고, 함수가 종료될 때까지 유지 (함수 내에서 처리되지 않는 예외를 일으킬 때 삭제됨)"
   ]
  },
  {
   "cell_type": "markdown",
   "metadata": {},
   "source": [
    "## 이름 검색(resolution) 규칙\n",
    "\n",
    "파이썬에서 사용되는 이름(식별자)들은 이름공간(namespace)에 저장되어 있습니다.\n",
    "\n",
    "아래와 같은 순서로 이름을 찾아나가며, `LEGB Rule` 이라고 부릅니다.\n",
    "\n",
    "* `L`ocal scope: 함수\n",
    "\n",
    "\n",
    "* `E`nclosed scope: 특정 함수의 상위 함수 \n",
    "\n",
    "\n",
    "* `G`lobal scope: 함수 밖의 변수 혹은 import된 모듈\n",
    "\n",
    "\n",
    "* `B`uilt-in scope: 파이썬안에 내장되어 있는 함수 또는 속성"
   ]
  },
  {
   "cell_type": "code",
   "execution_count": null,
   "metadata": {},
   "outputs": [],
   "source": [
    "# 이것을 통해 첫시간에 내장함수의 식별자를 사용할 수 없었던 예제에서 오류가 생기는 이유를 확인할 수 있습니다.\n",
    "# Built-in scope와 Global scope를 알아봅시다."
   ]
  },
  {
   "cell_type": "code",
   "execution_count": 11,
   "metadata": {},
   "outputs": [
    {
     "ename": "TypeError",
     "evalue": "'str' object is not callable",
     "output_type": "error",
     "traceback": [
      "\u001b[1;31m---------------------------------------------------------------------------\u001b[0m",
      "\u001b[1;31mTypeError\u001b[0m                                 Traceback (most recent call last)",
      "\u001b[1;32m~\\AppData\\Local\\Temp/ipykernel_10148/2591969965.py\u001b[0m in \u001b[0;36m<module>\u001b[1;34m\u001b[0m\n\u001b[0;32m      2\u001b[0m \u001b[1;33m\u001b[0m\u001b[0m\n\u001b[0;32m      3\u001b[0m \u001b[0mprint\u001b[0m \u001b[1;33m=\u001b[0m \u001b[1;34m'set'\u001b[0m\u001b[1;33m\u001b[0m\u001b[1;33m\u001b[0m\u001b[0m\n\u001b[1;32m----> 4\u001b[1;33m \u001b[0mprint\u001b[0m\u001b[1;33m(\u001b[0m\u001b[1;36m3\u001b[0m\u001b[1;33m)\u001b[0m\u001b[1;33m\u001b[0m\u001b[1;33m\u001b[0m\u001b[0m\n\u001b[0m",
      "\u001b[1;31mTypeError\u001b[0m: 'str' object is not callable"
     ]
    }
   ],
   "source": [
    "# 아래 코드를 실행하여 오류를 확인해보세요.\n",
    "\n",
    "print = 'set'\n",
    "print(3)"
   ]
  },
  {
   "cell_type": "code",
   "execution_count": 12,
   "metadata": {},
   "outputs": [],
   "source": [
    "# print 함수를 다시 사용할 수 있도록 print라는 이름의 변수를 삭제합니다.\n",
    "\n",
    "del print"
   ]
  },
  {
   "cell_type": "markdown",
   "metadata": {},
   "source": [
    "## \n",
    "\n",
    "1. `print()` 코드가 실행되면\n",
    "\n",
    "\n",
    "2. 함수에서 실행된 코드가 아니기 때문에 `L`, `E` 를 건너 뛰고,\n",
    "\n",
    "\n",
    "3. `print`라는 식별자를 Global scope에서 찾아서 `print = set`를 가져오고, \n",
    "\n",
    "\n",
    "4. 이는 함수가 아니라 변수이기 때문에 `not callable`하다라는 오류를 내뱉게 됩니다.\n",
    "\n",
    "\n",
    "5. 우리가 원하는 `print()`은 Built-in scope에 있기 때문입니다."
   ]
  },
  {
   "cell_type": "code",
   "execution_count": 13,
   "metadata": {},
   "outputs": [
    {
     "name": "stdout",
     "output_type": "stream",
     "text": [
      "3\n"
     ]
    }
   ],
   "source": [
    "# Global scope와 Local scope를 알아봅시다.\n",
    "# 함수 밖의 변수 a는 전역 변수에 해당하고, 함수 내부의 변수 a는 지역 변수에 해당합니다.\n",
    "# 함수의 실행 결과로 어떤 변수의 값이 반환되는지 확인해보세요.\n",
    "\n",
    "print(3)"
   ]
  },
  {
   "cell_type": "code",
   "execution_count": 7,
   "metadata": {
    "scrolled": true
   },
   "outputs": [
    {
     "name": "stdout",
     "output_type": "stream",
     "text": [
      "30 20 40\n"
     ]
    }
   ],
   "source": [
    "# LEGB Rule을 자세히 알아봅시다.\n",
    "\n",
    "# 아래 코드를 실행시켜보고 print문에서 출력되는 \n",
    "# 각 변수가 어느 스코프에 해당하는 변수인지 확인해보고 왜 그렇게 되는지 고민해보세요.\n",
    "\n",
    "a = 10\n",
    "b = 20\n",
    "def enclosed():\n",
    "    a = 30\n",
    "    def local():\n",
    "        c = 40\n",
    "        print(a, b, c)\n",
    "    local()\n",
    "    a = 50\n",
    "enclosed()"
   ]
  },
  {
   "cell_type": "code",
   "execution_count": 8,
   "metadata": {},
   "outputs": [],
   "source": [
    "# 전역 변수를 바꿀 수 있을까요?"
   ]
  },
  {
   "cell_type": "code",
   "execution_count": 14,
   "metadata": {},
   "outputs": [
    {
     "name": "stdout",
     "output_type": "stream",
     "text": [
      "3\n"
     ]
    }
   ],
   "source": [
    "# 기본적으로 지역 스코프에서 전역 스코프의 변수를 바꿀 수는 없습니다.\n",
    "# 아래 코드에서 함수 내부의 global_num은 지역 변수로 생성됩니다.\n",
    "# 코드를 실행시킨 뒤 결과를 확인해보세요.\n",
    "\n",
    "global_num = 3\n",
    "def local_scope():\n",
    "    global_num = 5\n",
    "\n",
    "local_scope()\n",
    "print(global_num)"
   ]
  },
  {
   "cell_type": "code",
   "execution_count": 12,
   "metadata": {},
   "outputs": [],
   "source": [
    "# 전역에 있는 변수를 바꾸고 싶다면, 아래와 같이 선언할 수 있습니다. (일반적으로 권장 X)"
   ]
  },
  {
   "cell_type": "code",
   "execution_count": 10,
   "metadata": {},
   "outputs": [
    {
     "name": "stdout",
     "output_type": "stream",
     "text": [
      "5\n"
     ]
    }
   ],
   "source": [
    "# global 키워드를 사용하여 지역 스코프에서 전역 변수의 값을 바꿀 수 있습니다.\n",
    "# 코드를 실행시킨 뒤 결과를 확인해보세요.\n",
    "\n",
    "global_num = 3\n",
    "def local_scope():\n",
    "    global global_num\n",
    "    global_num = 5\n",
    "\n",
    "local_scope()\n",
    "print(global_num)"
   ]
  },
  {
   "cell_type": "markdown",
   "metadata": {},
   "source": [
    "* 기본적으로 함수에서 선언된 변수는 Local scope에 생성되며, 함수 종료 시 사라집니다.\n",
    "* 해당 스코프에 변수가 없는 경우 LEGB rule에 의해 이름을 검색합니다.\n",
    "    * 변수에 접근은 가능하지만, 해당 변수를 수정할 수는 없습니다.\n",
    "    * 값을 할당하는 경우 해당 스코프의 이름공간에 새롭게 생성되기 때문입니다.\n",
    "    * **단, 함수 내에서 필요한 상위 스코프 변수는 인자로 넘겨서 활용합니다.** (클로저 제외)\n",
    "* 상위 스코프에 있는 변수를 수정하고 싶다면 global, nonlocal 키워드를 활용 가능합니다.\n",
    "    * 단, 코드가 복잡해지면서 변수의 변경을 추적하기 어렵고, 예기치 못한 오류가 발생합니다."
   ]
  },
  {
   "cell_type": "markdown",
   "metadata": {},
   "source": [
    "# 재귀 함수(recursive function)\n",
    "\n",
    "재귀 함수는 함수 내부에서 자기 자신을 호출 하는 함수를 뜻합니다.\n",
    "\n",
    "알고리즘을 설계 및 구현에서 유용하게 활용됩니다."
   ]
  },
  {
   "cell_type": "markdown",
   "metadata": {},
   "source": [
    "## 팩토리얼 계산\n",
    "> 팩토리얼은 1부터 n 까지 양의 정수를 차례대로 곱한 값이며 `!` 기호로 표기합니다. 예를 들어 3!은 3 * 2 * 1이며 결과는 6 입니다.\n",
    ">\n",
    "> `팩토리얼(factorial)`을 계산하는 함수 `fact(n)`를 작성하세요. \n",
    ">\n",
    "> n은 1보다 큰 정수라고 가정하고, 팩토리얼을 계산한 값을 반환합니다.\n",
    "\n",
    "$$\n",
    "\\displaystyle n! = \\prod_{ k = 1 }^{ n }{ k }\n",
    "$$\n",
    "\n",
    "$$\n",
    "\\displaystyle n! = 1*2*3*...*(n-1)*n\n",
    "$$\n",
    "\n",
    "---\n",
    "```\n",
    "예시 출력)\n",
    "120\n",
    "```"
   ]
  },
  {
   "cell_type": "markdown",
   "metadata": {},
   "source": [
    "### 반복문을 이용한 팩토리얼 계산"
   ]
  },
  {
   "cell_type": "code",
   "execution_count": null,
   "metadata": {},
   "outputs": [],
   "source": [
    "# 팩토리얼을 반복문을 이용하여 구현해봅시다."
   ]
  },
  {
   "cell_type": "code",
   "execution_count": 18,
   "metadata": {},
   "outputs": [],
   "source": [
    "def fact(n):\n",
    "    fact_n = 1\n",
    "    for i in range(n, 0,-1):\n",
    "        fact_n = fact_n * i\n",
    "    return fact_n\n",
    "\n",
    "# def fact(n):\n",
    "#     result = 1\n",
    "#     while n > 1:\n",
    "#         result *= n\n",
    "#         n -= 1\n",
    "#     return result "
   ]
  },
  {
   "cell_type": "code",
   "execution_count": 23,
   "metadata": {},
   "outputs": [
    {
     "data": {
      "text/plain": [
       "120"
      ]
     },
     "execution_count": 23,
     "metadata": {},
     "output_type": "execute_result"
    }
   ],
   "source": [
    "# 해당 코드를 통해 올바른 결과가 나오는지 확인하세요.\n",
    "fact(5)"
   ]
  },
  {
   "cell_type": "markdown",
   "metadata": {},
   "source": [
    "### 재귀를 이용한 팩토리얼 계산\n",
    "\n",
    "```\n",
    "1! = 1\n",
    "2! = 1 * 2 = 1! * 2 \n",
    "3! = 1 * 2 * 3 = 2! * 3\n",
    "```"
   ]
  },
  {
   "cell_type": "code",
   "execution_count": null,
   "metadata": {},
   "outputs": [],
   "source": [
    "# 재귀를 이용하여 팩토리얼을 구현해봅시다."
   ]
  },
  {
   "cell_type": "code",
   "execution_count": null,
   "metadata": {},
   "outputs": [],
   "source": [
    "# 여기에 코드를 작성하세요."
   ]
  },
  {
   "cell_type": "code",
   "execution_count": 26,
   "metadata": {},
   "outputs": [],
   "source": [
    "def factorial(n):\n",
    "    if n == 1:\n",
    "        return n\n",
    "    else: \n",
    "        return n * factorial(n-1)"
   ]
  },
  {
   "cell_type": "code",
   "execution_count": 27,
   "metadata": {},
   "outputs": [
    {
     "data": {
      "text/plain": [
       "120"
      ]
     },
     "execution_count": 27,
     "metadata": {},
     "output_type": "execute_result"
    }
   ],
   "source": [
    "# 해당 코드를 통해 올바른 결과가 나오는지 확인하세요.\n",
    "factorial(5)"
   ]
  },
  {
   "cell_type": "markdown",
   "metadata": {},
   "source": [
    "## 반복문과 재귀함수\n",
    "```python\n",
    "factorial(3)\n",
    "3 * factorail(2)\n",
    "3 * 2 * factorial(1)\n",
    "3 * 2 * 1\n",
    "3 * 2\n",
    "6\n",
    "```\n",
    "\n",
    "* 두 코드 모두 원리는 같습니다! \n",
    "\n",
    "\n",
    "1. 반복문 코드\n",
    "    - n이 1보다 큰 경우 반복문을 돌며, n은 1씩 감소합니다. \n",
    "    - 마지막에 n이 1이면 더 이상 반복문을 돌지 않습니다.\n",
    "  \n",
    "  \n",
    "2. 재귀 함수 코드\n",
    "    - 재귀 함수를 호출하며, n은 1씩 감소합니다. \n",
    "    - 마지막에 n이 1이면 더 이상 추가 함수를 호출하지 않습니다.\n"
   ]
  },
  {
   "cell_type": "markdown",
   "metadata": {},
   "source": [
    "* 재귀함수는 기본적으로 같은 문제이지만 점점 범위가 줄어드는 문제를 풀게 됩니다.\n",
    "\n",
    "* 재귀함수를 작성시에는 반드시, `base case`가 존재 하여야 합니다. \n",
    "\n",
    "* `base case`는 점점 범위가 줄어들어 반복되지 않는 최종적으로 도달하는 곳을 의미합니다. \n",
    "\n",
    "* 재귀를 이용한 팩토리얼 계산에서의 base case는 **n이 1일때, 함수가 아닌 정수 반환하는 것**입니다."
   ]
  },
  {
   "cell_type": "markdown",
   "metadata": {},
   "source": [
    "* 자기 자신을 호출하는 재귀함수는 알고리즘 구현시 많이 사용됩니다.\n",
    "* 코드가 더 직관적이고 이해하기 쉬운 경우가 있습니다. \n",
    "* 팩토리얼 재귀함수를 [Python Tutor](https://goo.gl/k1hQYz)에서 확인해보면, 함수가 호출될 때마다 메모리 공간에 쌓이는 것을 볼 수 있습니다.\n",
    "* 이 경우, 메모리 스택이 넘치거나(Stack overflow) 프로그램 실행 속도가 늘어지는 단점이 생깁니다.\n",
    "* 파이썬에서는 이를 방지하기 위해 1,000번이 넘어가게 되면 더이상 함수를 호출하지 않고, 종료됩니다. (최대 재귀 깊이)"
   ]
  },
  {
   "cell_type": "markdown",
   "metadata": {},
   "source": [
    "### 최대 재귀 깊이\n",
    "\n",
    "\n",
    "```python\n",
    "def won():\n",
    "    print('Hello, won!')\n",
    "    won()\n",
    " \n",
    "won()\n",
    "```\n",
    "---\n",
    "\n",
    "`won()`를 호출하면 아래와 같이 문자열이 계속 출력되다가 RecursionError가 발생합니다.\n",
    "\n",
    "파이썬에서는 최대 재귀 깊이(maximum recursion depth)가 1,000으로 정해져 있기 때문입니다.\n",
    "\n",
    "---\n",
    "\n",
    "```bash\n",
    "Hello, world!\n",
    "Hello, world!\n",
    "...\n",
    "Hello, world!\n",
    "---------------------------------------------------------------------------\n",
    "RecursionError                            Traceback (most recent call last)\n",
    "\n",
    "...\n",
    "\n",
    "<ipython-input-11-2bbb40950c86> in hello()\n",
    "      1 def hello():\n",
    "      2     print('Hello, world!')\n",
    "----> 3     hello()\n",
    "      4 \n",
    "      5 hello()\n",
    "\n",
    "RecursionError: maximum recursion depth exceeded while calling a Python object\n",
    "```"
   ]
  },
  {
   "cell_type": "code",
   "execution_count": null,
   "metadata": {},
   "outputs": [],
   "source": [
    "# 직접 오류를 확인하세요."
   ]
  },
  {
   "cell_type": "code",
   "execution_count": null,
   "metadata": {},
   "outputs": [],
   "source": [
    "def won():\n",
    "    print('Hello, won!', end=\" \")\n",
    "    won()\n",
    "\n",
    "won()"
   ]
  },
  {
   "cell_type": "markdown",
   "metadata": {},
   "source": [
    "## [실습] 피보나치 수열\n",
    "\n",
    "첫째 및 둘째 항이 1이며 그 뒤의 모든 항은 바로 앞 두 항의 합인 수열입니다. \n",
    "\n",
    "(0), 1, 1, 2, 3, 5, 8\n",
    "\n",
    "> 피보나치 수열은 다음과 같은 점화식이 있습니다. \n",
    ">\n",
    "> 피보나치 값을 리턴하는 두가지 방식의 코드를 모두 작성해주세요.\n",
    ">\n",
    "\n",
    "$$\n",
    "\\displaystyle F_0 = F_1 = 1\n",
    "$$\n",
    "\n",
    "$$\n",
    "F_n=F_{n-1}+F_{n-2}\\qquad(n\\in\\{2,3,4,\\dots\\})\n",
    "$$\n",
    "\n",
    "1) `fib(n)` : 재귀함수\n",
    "\n",
    "2) `fib_loop(n)` : 반복문 활용한 함수\n",
    "\n",
    "---\n",
    "```\n",
    "예시 입력)\n",
    "fib(10)\n",
    "\n",
    "예시 호출)\n",
    "55\n",
    "```"
   ]
  },
  {
   "cell_type": "code",
   "execution_count": null,
   "metadata": {},
   "outputs": [],
   "source": [
    "# 재귀를 이용한 코드 fib() 를 작성하세요."
   ]
  },
  {
   "cell_type": "code",
   "execution_count": 2,
   "metadata": {},
   "outputs": [],
   "source": [
    "# \n",
    "def fib(n):\n",
    "    if n < 2:\n",
    "        return n\n",
    "    else:\n",
    "        return fib(n-1) + fib(n-2)"
   ]
  },
  {
   "cell_type": "code",
   "execution_count": 3,
   "metadata": {},
   "outputs": [
    {
     "data": {
      "text/plain": [
       "55"
      ]
     },
     "execution_count": 3,
     "metadata": {},
     "output_type": "execute_result"
    }
   ],
   "source": [
    "# 해당 코드를 통해 올바른 결과가 나오는지 확인하세요.\n",
    "fib(10)"
   ]
  },
  {
   "cell_type": "code",
   "execution_count": 4,
   "metadata": {},
   "outputs": [],
   "source": [
    "# 반복문(for문)을 이용한 코드 fib_loop() 를 작성하세요."
   ]
  },
  {
   "cell_type": "code",
   "execution_count": 15,
   "metadata": {},
   "outputs": [],
   "source": [
    "def fib_loop(n):\n",
    "    if n < 2:\n",
    "        return n\n",
    "    a, b = 0, 1\n",
    "    for i in range(n-1):\n",
    "        a, b = b, a+b\n",
    "    return b\n",
    "\n",
    "# def fib_loop(n):\n",
    "#     if n < 2:\n",
    "#         return n\n",
    "#     \n",
    "#     result = [0, 1]\n",
    "#     for i in range(2, n+1):\n",
    "#         result.append(result[i - 1] + result[i - 2])\n",
    "#     return result[-1]  ---> list의 마지막 값 출력"
   ]
  },
  {
   "cell_type": "code",
   "execution_count": 16,
   "metadata": {},
   "outputs": [
    {
     "data": {
      "text/plain": [
       "55"
      ]
     },
     "execution_count": 16,
     "metadata": {},
     "output_type": "execute_result"
    }
   ],
   "source": [
    "# 해당 코드를 통해 올바른 결과가 나오는지 확인하세요.\n",
    "fib_loop(10)"
   ]
  },
  {
   "cell_type": "code",
   "execution_count": 24,
   "metadata": {},
   "outputs": [
    {
     "name": "stdout",
     "output_type": "stream",
     "text": [
      "55\n",
      "0 1 1 2 3 5 8 21\n"
     ]
    }
   ],
   "source": [
    "# 반복문(while 문)을 이용한 코드 fib_loop2()을 작성하세요.\n",
    "def fib_loop2(n):\n",
    "    a, b = 0, 1\n",
    "    while n > 1:\n",
    "        a, b = b, a+b\n",
    "        n -= 1\n",
    "    return b\n",
    "\n",
    "print(fib_loop2(10))\n",
    "\n",
    "def fib_loop3(n):\n",
    "    a, b = 0, 1\n",
    "    while a < n:\n",
    "        print(a, end = ' ')\n",
    "        a, b = b, a + b\n",
    "    return b\n",
    "\n",
    "print(fib_loop3(10))"
   ]
  },
  {
   "cell_type": "markdown",
   "metadata": {},
   "source": [
    "## 반복문과 재귀 함수의 차이\n",
    "\n",
    "* 알고리즘 자체가 재귀적인 표현이 자연스러운 경우 재귀함수를 사용합니다.\n",
    "* 재귀 호출은 `변수 사용` 을 줄여줄 수 있습니다."
   ]
  },
  {
   "cell_type": "code",
   "execution_count": 8,
   "metadata": {},
   "outputs": [],
   "source": [
    "# 재귀 호출은 입력 값이 커질 수록 연산 속도가 오래걸립니다.\n",
    "# fib() 함수에 10 이상의 값을 넣어보고 실행한 뒤 연산 시간을 확인해보세요."
   ]
  },
  {
   "cell_type": "code",
   "execution_count": 25,
   "metadata": {},
   "outputs": [
    {
     "name": "stdout",
     "output_type": "stream",
     "text": [
      "0:00:01.947794\n"
     ]
    }
   ],
   "source": [
    "from timeit import default_timer as timer\n",
    "from datetime import timedelta\n",
    "\n",
    "start = timer()\n",
    "fib(35)\n",
    "end = timer()\n",
    "print(timedelta(seconds=end-start))"
   ]
  },
  {
   "cell_type": "code",
   "execution_count": 26,
   "metadata": {},
   "outputs": [],
   "source": [
    "# 반복문은 재귀로 구현된 함수보다 연산 속도가 빠른 편입니다.\n",
    "# fib_loop() 함수에 10 이상의 값을 넣어보고 실행한 뒤 연산 시간을 확인해보세요.\n",
    "# 그리고 100배 더 큰 1000 이상의 값도 넣어보고 실행한 뒤 연산 시간을 확인해보세요."
   ]
  },
  {
   "cell_type": "code",
   "execution_count": 27,
   "metadata": {},
   "outputs": [
    {
     "name": "stdout",
     "output_type": "stream",
     "text": [
      "0:00:00.000028\n"
     ]
    }
   ],
   "source": [
    "from timeit import default_timer as timer\n",
    "from datetime import timedelta\n",
    "\n",
    "start = timer()\n",
    "fib_loop(35)\n",
    "end = timer()\n",
    "print(timedelta(seconds=end-start))\n"
   ]
  },
  {
   "cell_type": "code",
   "execution_count": null,
   "metadata": {},
   "outputs": [],
   "source": []
  }
 ],
 "metadata": {
  "kernelspec": {
   "display_name": "Python 3 (ipykernel)",
   "language": "python",
   "name": "python3"
  },
  "language_info": {
   "codemirror_mode": {
    "name": "ipython",
    "version": 3
   },
   "file_extension": ".py",
   "mimetype": "text/x-python",
   "name": "python",
   "nbconvert_exporter": "python",
   "pygments_lexer": "ipython3",
   "version": "3.9.6"
  },
  "toc": {
   "base_numbering": 1,
   "nav_menu": {},
   "number_sections": true,
   "sideBar": true,
   "skip_h1_title": false,
   "title_cell": "Table of Contents",
   "title_sidebar": "함수(function) II",
   "toc_cell": false,
   "toc_position": {
    "height": "calc(100% - 180px)",
    "left": "10px",
    "top": "150px",
    "width": "297.458px"
   },
   "toc_section_display": true,
   "toc_window_display": false
  }
 },
 "nbformat": 4,
 "nbformat_minor": 4
}
